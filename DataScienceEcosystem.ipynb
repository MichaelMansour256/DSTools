{
 "cells": [
  {
   "cell_type": "markdown",
   "id": "b562b8ef",
   "metadata": {},
   "source": [
    "# Data Science Tools and Ecosystem"
   ]
  },
  {
   "cell_type": "markdown",
   "id": "5442fcea",
   "metadata": {},
   "source": [
    "## In this notebook, Data Science Tools and Ecosystem are summarized."
   ]
  },
  {
   "cell_type": "markdown",
   "id": "af4d4160",
   "metadata": {},
   "source": [
    "### Some of the popular languages that Data Scientists use are:\n",
    "1. python\n",
    "2. R\n",
    "3. java"
   ]
  },
  {
   "cell_type": "markdown",
   "id": "7c0c0aac",
   "metadata": {},
   "source": [
    "### Some of the commonly used libraries used by Data Scientists include:\n",
    "1. sickit learn\n",
    "2. tensorflow\n",
    "3. pytorch"
   ]
  },
  {
   "cell_type": "markdown",
   "id": "cfdc1d97",
   "metadata": {},
   "source": [
    "| Data Science Tools  \n",
    "| -------- \n",
    "| sicket learn \n",
    "| tensorflow \n",
    "| pytorch "
   ]
  },
  {
   "cell_type": "markdown",
   "id": "6d8c4f38",
   "metadata": {},
   "source": [
    "### Below are a few examples of evaluating arithmetic expressions in Python.\n"
   ]
  },
  {
   "cell_type": "code",
   "execution_count": 3,
   "id": "4bc54941",
   "metadata": {},
   "outputs": [
    {
     "data": {
      "text/plain": [
       "17"
      ]
     },
     "execution_count": 3,
     "metadata": {},
     "output_type": "execute_result"
    }
   ],
   "source": [
    "#This a simple arithmetic expression to mutiply then add integers\n",
    "(3*4)+5"
   ]
  },
  {
   "cell_type": "code",
   "execution_count": 7,
   "id": "a7e543d4",
   "metadata": {},
   "outputs": [
    {
     "name": "stdout",
     "output_type": "stream",
     "text": [
      "3.3333333333333335 hours\n"
     ]
    }
   ],
   "source": [
    "#This will convert 200 minutes to hours by diving by 60\n",
    "print((200/60) , \"hours\")"
   ]
  },
  {
   "cell_type": "markdown",
   "id": "5003d581",
   "metadata": {},
   "source": [
    "### **Objectives**:\n",
    "* List popular languages for Data Science\n",
    "* List popular Liberaries for Data Science\n",
    "* Use Markdown\n",
    "* arithmetic expression to mutiply then add integers\n",
    "* convert 200 minutes to hours by diving by 60"
   ]
  },
  {
   "cell_type": "markdown",
   "id": "2d9c1442",
   "metadata": {},
   "source": [
    "## Author \n",
    "Michael Mansour Ghaly"
   ]
  },
  {
   "cell_type": "code",
   "execution_count": null,
   "id": "1449cb7a",
   "metadata": {},
   "outputs": [],
   "source": []
  }
 ],
 "metadata": {
  "kernelspec": {
   "display_name": "Python 3 (ipykernel)",
   "language": "python",
   "name": "python3"
  },
  "language_info": {
   "codemirror_mode": {
    "name": "ipython",
    "version": 3
   },
   "file_extension": ".py",
   "mimetype": "text/x-python",
   "name": "python",
   "nbconvert_exporter": "python",
   "pygments_lexer": "ipython3",
   "version": "3.9.12"
  }
 },
 "nbformat": 4,
 "nbformat_minor": 5
}
